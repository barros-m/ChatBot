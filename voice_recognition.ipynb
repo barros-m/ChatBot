{
 "cells": [
  {
   "cell_type": "code",
   "execution_count": 9,
   "metadata": {},
   "outputs": [
    {
     "name": "stdout",
     "output_type": "stream",
     "text": [
      "Say Something\n",
      "You said: hello doctor this is a test\n"
     ]
    }
   ],
   "source": [
    "# https://pythonspot.com/speech-recognition-using-google-speech-api/\n",
    "import speech_recognition as sr\n",
    "\n",
    "# Record Audio \n",
    "r = sr.Recognizer()\n",
    "\n",
    "with sr.Microphone() as source:\n",
    "    print(\"Say Something\")\n",
    "    audio = r.listen(source)\n",
    "\n",
    "try:\n",
    "    print(\"You said: \" + r.recognize_google(audio))\n",
    "except sr.UnknownValueError:\n",
    "    print(\"Google Speech Recognition could not understand audio\")\n",
    "except sr.RequestError as e:\n",
    "    print(\"Could not request results from Google Speech Recognition service; {0}\".format(e))"
   ]
  },
  {
   "cell_type": "code",
   "execution_count": 14,
   "metadata": {},
   "outputs": [
    {
     "name": "stdout",
     "output_type": "stream",
     "text": [
      " Average audio intensity is  2762.2179276009074\n",
      " Average audio intensity is  1745.2327184585054\n",
      " Average audio intensity is  1693.8807118142354\n",
      " Average audio intensity is  2057.749903007033\n",
      " Average audio intensity is  1264.5005295713445\n",
      " Average audio intensity is  1204.7544835857695\n",
      " Average audio intensity is  1704.7327699155878\n",
      " Average audio intensity is  1448.8118280413967\n",
      " Average audio intensity is  1429.1735432168098\n"
     ]
    }
   ],
   "source": [
    "import speech_recognition as rs\n",
    "import pyaudio\n",
    "import audioop\n",
    "import os\n",
    "import math\n",
    "from os import system\n",
    "import threading\n",
    "\n",
    "# Microphone stream config.\n",
    "CHUNK = 1024  # CHUNKS of bytes to read each time from mic\n",
    "FORMAT = pyaudio.paInt16\n",
    "CHANNELS = 1\n",
    "RATE = 16000\n",
    "THRESHOLD = 1000  # The threshold intensity that defines silence\n",
    "                  # and noise signal (an int. lower than THRESHOLD is silence).\n",
    "\n",
    "SILENCE_LIMIT = 1  # Silence limit in seconds. The max ammount of seconds where\n",
    "                   # only silence is recorded. When this time passes the\n",
    "                   # recording finishes and the file is delivered.\n",
    "        \n",
    "def audio_int(num_samples=50):\n",
    "    \"\"\" Gets average audio intensity of your mic sound. You can use it to get\n",
    "        average intensities while you're talking and/or silent. The average\n",
    "        is the avg of the 20% largest intensities recorded.\n",
    "    \"\"\"\n",
    "        \n",
    "    p = pyaudio.PyAudio()\n",
    "\n",
    "    stream = p.open(format=FORMAT,\n",
    "                    channels=CHANNELS,\n",
    "                    rate=RATE,\n",
    "                    input=True,\n",
    "                    frames_per_buffer=CHUNK)\n",
    "\n",
    "    values = [math.sqrt(abs(audioop.avg(stream.read(CHUNK), 4))) \n",
    "              for x in range(num_samples)] \n",
    "    values = sorted(values, reverse=True)\n",
    "    r = sum(values[:int(num_samples * 0.2)]) / int(num_samples * 0.2)\n",
    "    print(\" Average audio intensity is \", r)\n",
    "    stream.close()\n",
    "    p.terminate()\n",
    "    \n",
    "    if r > THRESHOLD:\n",
    "        listen(0)\n",
    "    \n",
    "    threading.Timer(SILENCE_LIMIT, audio_int).start()\n",
    "    \n",
    "def listen(x):\n",
    "    r=rs.Recognizer()\n",
    "    if x == 0:\n",
    "        print('say Hi. How can I help?')\n",
    "    with rs.Microphone() as source:\n",
    "        audio=r.listen(source)\n",
    "    try:\n",
    "        text = r.recognize_google(audio)\n",
    "        y = process(text.lower())\n",
    "        return(y)\n",
    "    except:\n",
    "        if x == 1:\n",
    "            print('say Good Bye!')\n",
    "        else:\n",
    "            print('say I did not get that. Please say again.')\n",
    "            listen(1)\n",
    "\n",
    "listen(0)\n"
   ]
  },
  {
   "cell_type": "code",
   "execution_count": null,
   "metadata": {},
   "outputs": [],
   "source": []
  },
  {
   "cell_type": "code",
   "execution_count": null,
   "metadata": {},
   "outputs": [],
   "source": []
  }
 ],
 "metadata": {
  "kernelspec": {
   "display_name": "Python 3",
   "language": "python",
   "name": "python3"
  },
  "language_info": {
   "codemirror_mode": {
    "name": "ipython",
    "version": 3
   },
   "file_extension": ".py",
   "mimetype": "text/x-python",
   "name": "python",
   "nbconvert_exporter": "python",
   "pygments_lexer": "ipython3",
   "version": "3.7.3"
  }
 },
 "nbformat": 4,
 "nbformat_minor": 2
}
