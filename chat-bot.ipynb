{
 "cells": [
  {
   "cell_type": "code",
   "execution_count": 1,
   "metadata": {},
   "outputs": [
    {
     "name": "stdout",
     "output_type": "stream",
     "text": [
      "pygame 1.9.6\n",
      "Hello from the pygame community. https://www.pygame.org/contribute.html\n"
     ]
    }
   ],
   "source": [
    "# https://www.codementor.io/edwardzionsaji/simple-voice-enabled-chat-bot-in-python-kt2qi5oke\n",
    "import random\n",
    "import datetime\n",
    "import webbrowser\n",
    "import pyttsx3\n",
    "import wikipedia\n",
    "from pygame import mixer\n",
    "import speech_recognition as sr"
   ]
  },
  {
   "cell_type": "code",
   "execution_count": 2,
   "metadata": {},
   "outputs": [],
   "source": [
    "# make sure there is NO headphone connected\n",
    "engine = pyttsx3.init()\n",
    "voices = engine.getProperty('voices')\n",
    "engine.setProperty('voice', voices[1].id)\n",
    "volume = engine.getProperty('volume')\n",
    "engine.setProperty('volume', 10.0)\n",
    "rate = engine.getProperty('rate')\n",
    "engine.setProperty('rate', rate - 25)"
   ]
  },
  {
   "cell_type": "code",
   "execution_count": 3,
   "metadata": {},
   "outputs": [],
   "source": [
    "greetings = ['hey there', 'hello', 'hi', 'Hai', 'hey!', 'hey']\n",
    "question = ['How are you?', 'How are you doing?']\n",
    "responses = ['Okay', \"I'm fine\"]\n",
    "var1 = ['who made you', 'who created you']\n",
    "var2 = ['I_was_created_by_Matthew_right_in_his_computer.', 'Matthew', 'Some_guy_whom_i_never_got_to_know.']\n",
    "var3 = ['what time is it', 'what is the time', 'time']\n",
    "var4 = ['who are you', 'what is you name']\n",
    "cmd1 = ['open browser', 'open google']\n",
    "cmd2 = ['play music', 'play songs', 'play a song', 'open music player']\n",
    "cmd3 = ['tell a joke', 'tell me a joke', 'say something funny', 'tell something funny']\n",
    "jokes = ['Can a kangaroo jump higher than a house? Of course, a house doesn’t jump at all.', 'My dog used to chase people on a bike a lot. It got so bad, finally I had to take his bike away.', 'Doctor: Im sorry but you suffer from a terminal illness and have only 10 to live.Patient: What do you mean, 10? 10 what? Months? Weeks?!\"Doctor: Nine.']\n",
    "cmd4 = ['open youtube', 'i want to watch a video']\n",
    "cmd5 = ['tell me the weather', 'weather', 'what about the weather']\n",
    "cmd6 = ['exit', 'close', 'goodbye', 'nothing']\n",
    "cmd7 = ['what is your color', 'what is your colour', 'your color', 'your color?']\n",
    "colrep = ['Right now its rainbow', 'Right now its transparent', 'Right now its non chromatic']\n",
    "cmd8 = ['what is you favourite colour', 'what is your favourite color']\n",
    "cmd9 = ['thank you']\n",
    "repfr9 = ['youre welcome', 'glad i could help you']\n",
    "bye = ['bye', 'good_bye']"
   ]
  },
  {
   "cell_type": "code",
   "execution_count": 5,
   "metadata": {},
   "outputs": [
    {
     "name": "stdout",
     "output_type": "stream",
     "text": [
      "What is your name?\n",
      "Your name is Matthew\n",
      "Tell me something:\n",
      "You said:- bye\n"
     ]
    }
   ],
   "source": [
    "name = \"\"\n",
    "done = False\n",
    "\n",
    "while not done:\n",
    "    r = sr.Recognizer()\n",
    "    with sr.Microphone() as source:\n",
    "        print(\"What is your name?\")\n",
    "        audio = r.listen(source)\n",
    "        try:\n",
    "            name = r.recognize_google(audio)\n",
    "            print(\"Your name is \" + name)\n",
    "            done = True\n",
    "        except sr.UnknownValueError:\n",
    "            print(\"Could not understand audio\")\n",
    "            engine.say('I didnt get that')\n",
    "            engine.runAndWait()\n",
    "\n",
    "while True:\n",
    "    now = datetime.datetime.now()\n",
    "    r = sr.Recognizer()\n",
    "    with sr.Microphone() as source:\n",
    "        print(\"Tell me something:\")\n",
    "        audio = r.listen(source)\n",
    "        try:\n",
    "            print(\"You said:- \" + r.recognize_google(audio))\n",
    "        except sr.UnknownValueError:\n",
    "            print(\"Could not understand audio\")\n",
    "            engine.say('I didnt get that')\n",
    "            engine.runAndWait()\n",
    "        \n",
    "    if r.recognize_google(audio) in greetings:\n",
    "        random_greeting = random.choice(greetings)\n",
    "        print(random_greeting)\n",
    "        engine.say(random_greeting)\n",
    "        engine.runAndWait()\n",
    "    elif r.recognize_google(audio) in var1:\n",
    "        engine.say('I was made by you')\n",
    "        engine.runAndWait()\n",
    "        reply = random.choice(var2)\n",
    "        print(reply)\n",
    "    elif r.recognize_google(audio) in bye:\n",
    "        a = \"bye bye\" + name\n",
    "        engine.say(a)\n",
    "        engine.runAndWait()\n",
    "        break"
   ]
  },
  {
   "cell_type": "code",
   "execution_count": null,
   "metadata": {},
   "outputs": [],
   "source": []
  },
  {
   "cell_type": "code",
   "execution_count": null,
   "metadata": {},
   "outputs": [],
   "source": []
  },
  {
   "cell_type": "code",
   "execution_count": null,
   "metadata": {},
   "outputs": [],
   "source": []
  }
 ],
 "metadata": {
  "kernelspec": {
   "display_name": "Python 3",
   "language": "python",
   "name": "python3"
  },
  "language_info": {
   "codemirror_mode": {
    "name": "ipython",
    "version": 3
   },
   "file_extension": ".py",
   "mimetype": "text/x-python",
   "name": "python",
   "nbconvert_exporter": "python",
   "pygments_lexer": "ipython3",
   "version": "3.7.3"
  }
 },
 "nbformat": 4,
 "nbformat_minor": 2
}
